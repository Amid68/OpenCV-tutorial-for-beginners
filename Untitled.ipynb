{
 "cells": [
  {
   "cell_type": "markdown",
   "id": "3f1ffaa3-c8cd-4ed0-9ab6-9138f6e96932",
   "metadata": {},
   "source": [
    "# OpenCV tutorial for beginners | FULL COURSE in 3 hours with Python\n"
   ]
  },
  {
   "cell_type": "code",
   "id": "de1d05f8-0d4b-4818-b4ea-74b6876b9954",
   "metadata": {
    "ExecuteTime": {
     "end_time": "2025-02-15T19:06:20.226832Z",
     "start_time": "2025-02-15T19:06:19.835483Z"
    }
   },
   "source": [
    "# libraries\n",
    "import cv2"
   ],
   "outputs": [],
   "execution_count": 1
  },
  {
   "cell_type": "code",
   "id": "3921cd24-446b-4b61-8867-ce16f9971575",
   "metadata": {
    "ExecuteTime": {
     "end_time": "2025-02-15T19:06:23.924629Z",
     "start_time": "2025-02-15T19:06:23.907711Z"
    }
   },
   "source": [
    "image = cv2.imread('squirrel.png')\n",
    "print(image.shape)"
   ],
   "outputs": [
    {
     "name": "stdout",
     "output_type": "stream",
     "text": [
      "(403, 540, 3)\n"
     ]
    }
   ],
   "execution_count": 2
  },
  {
   "cell_type": "code",
   "id": "be4d867e-e9d0-4b05-a211-313ecde81060",
   "metadata": {},
   "source": [],
   "outputs": [],
   "execution_count": null
  }
 ],
 "metadata": {
  "kernelspec": {
   "display_name": "Python (myenv)",
   "language": "python",
   "name": "myenv"
  },
  "language_info": {
   "codemirror_mode": {
    "name": "ipython",
    "version": 3
   },
   "file_extension": ".py",
   "mimetype": "text/x-python",
   "name": "python",
   "nbconvert_exporter": "python",
   "pygments_lexer": "ipython3",
   "version": "3.12.1"
  }
 },
 "nbformat": 4,
 "nbformat_minor": 5
}
