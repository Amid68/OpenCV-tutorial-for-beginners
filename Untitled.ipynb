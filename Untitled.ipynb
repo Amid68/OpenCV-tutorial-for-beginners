{
 "cells": [
  {
   "cell_type": "markdown",
   "id": "3f1ffaa3-c8cd-4ed0-9ab6-9138f6e96932",
   "metadata": {},
   "source": [
    "# OpenCV tutorial for beginners | FULL COURSE in 3 hours with Python\n"
   ]
  },
  {
   "cell_type": "code",
   "execution_count": 2,
   "id": "de1d05f8-0d4b-4818-b4ea-74b6876b9954",
   "metadata": {},
   "outputs": [],
   "source": [
    "# libraries\n",
    "import cv2"
   ]
  },
  {
   "cell_type": "code",
   "execution_count": 3,
   "id": "3921cd24-446b-4b61-8867-ce16f9971575",
   "metadata": {},
   "outputs": [
    {
     "name": "stdout",
     "output_type": "stream",
     "text": [
      "(403, 540, 3)\n"
     ]
    }
   ],
   "source": [
    "image = cv2.imread('squirrel.png')\n",
    "print(image.shape)"
   ]
  },
  {
   "cell_type": "code",
   "execution_count": null,
   "id": "be4d867e-e9d0-4b05-a211-313ecde81060",
   "metadata": {},
   "outputs": [],
   "source": []
  }
 ],
 "metadata": {
  "kernelspec": {
   "display_name": "Python (myenv)",
   "language": "python",
   "name": "myenv"
  },
  "language_info": {
   "codemirror_mode": {
    "name": "ipython",
    "version": 3
   },
   "file_extension": ".py",
   "mimetype": "text/x-python",
   "name": "python",
   "nbconvert_exporter": "python",
   "pygments_lexer": "ipython3",
   "version": "3.12.1"
  }
 },
 "nbformat": 4,
 "nbformat_minor": 5
}
